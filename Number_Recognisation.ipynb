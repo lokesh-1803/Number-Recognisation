{
 "cells": [
  {
   "cell_type": "code",
   "execution_count": 3,
   "id": "e057fd0a",
   "metadata": {},
   "outputs": [],
   "source": [
    "import tensorflow as tf\n",
    "import cv2\n",
    "import numpy as np\n",
    "import matplotlib.pyplot as plt\n",
    "from tensorflow.keras.models import load_model\n",
    "from tensorflow.keras.models import Sequential\n",
    "from tensorflow.keras.layers import Dense, Dropout"
   ]
  },
  {
   "cell_type": "code",
   "execution_count": 4,
   "id": "45e604c7",
   "metadata": {},
   "outputs": [],
   "source": [
    "dataset = tf.keras.datasets.mnist\n",
    "(X_train, y_train), (X_test, y_test) = dataset.load_data()\n",
    "X_train= X_train/255.0\n",
    "X_test= X_test/255.0"
   ]
  },
  {
   "cell_type": "code",
   "execution_count": 5,
   "id": "606ac1e6",
   "metadata": {},
   "outputs": [],
   "source": [
    "X_train = X_train.reshape(X_train.shape[0], -1)\n",
    "X_test = X_test.reshape(X_test.shape[0], -1)"
   ]
  },
  {
   "cell_type": "code",
   "execution_count": 6,
   "id": "23767f6c",
   "metadata": {},
   "outputs": [],
   "source": [
    "model = Sequential()\n",
    "model.add(Dense(128, activation='relu'))\n",
    "model.add(Dropout(0.2))\n",
    "\n",
    "model.add(Dense(128, activation='relu'))\n",
    "model.add(Dropout(0.2))"
   ]
  },
  {
   "cell_type": "code",
   "execution_count": 7,
   "id": "b5ca44cf",
   "metadata": {},
   "outputs": [
    {
     "name": "stdout",
     "output_type": "stream",
     "text": [
      "Epoch 1/3\n",
      "4500/4500 [==============================] - 12s 3ms/step - loss: 0.2930 - acc: 0.9098 - val_loss: 0.1069 - val_acc: 0.9672\n",
      "Epoch 2/3\n",
      "4500/4500 [==============================] - 11s 2ms/step - loss: 0.1554 - acc: 0.9532 - val_loss: 0.0837 - val_acc: 0.9787\n",
      "Epoch 3/3\n",
      "4500/4500 [==============================] - 11s 3ms/step - loss: 0.1226 - acc: 0.9626 - val_loss: 0.0831 - val_acc: 0.9762\n"
     ]
    },
    {
     "data": {
      "text/plain": [
       "<keras.src.callbacks.History at 0x1b1d71850d0>"
      ]
     },
     "execution_count": 7,
     "metadata": {},
     "output_type": "execute_result"
    }
   ],
   "source": [
    "model.add(Dense(10, activation='softmax'))\n",
    "model.compile('adam', 'sparse_categorical_crossentropy', metrics=['acc'])\n",
    "model.fit(X_train, y_train, epochs=3, batch_size=12, validation_split=0.1)"
   ]
  },
  {
   "cell_type": "code",
   "execution_count": 8,
   "id": "427e547c",
   "metadata": {},
   "outputs": [
    {
     "name": "stdout",
     "output_type": "stream",
     "text": [
      "313/313 [==============================] - 1s 2ms/step\n"
     ]
    },
    {
     "data": {
      "text/plain": [
       "Text(0, 0.5, '9')"
      ]
     },
     "execution_count": 8,
     "metadata": {},
     "output_type": "execute_result"
    },
    {
     "data": {
      "image/png": "[encoded data removed]",
      "text/plain": [
       "<Figure size 640x480 with 1 Axes>"
      ]
     },
     "metadata": {},
     "output_type": "display_data"
    }
   ],
   "source": [
    "plt.imshow(X_test[1255].reshape(28,28), cmap='gray')\n",
    "plt.xlabel(y_test[1255])\n",
    "plt.ylabel(np.argmax(model.predict(X_test)[1255]))"
   ]
  },
  {
   "cell_type": "code",
   "execution_count": 9,
   "id": "258758e5",
   "metadata": {},
   "outputs": [
    {
     "name": "stderr",
     "output_type": "stream",
     "text": [
      "C:\\Users\\purna\\AppData\\Local\\Packages\\PythonSoftwareFoundation.Python.3.11_qbz5n2kfra8p0\\LocalCache\\local-packages\\Python311\\site-packages\\keras\\src\\engine\\training.py:3000: UserWarning: You are saving your model as an HDF5 file via `model.save()`. This file format is considered legacy. We recommend using instead the native Keras format, e.g. `model.save('my_model.keras')`.\n",
      "  saving_api.save_model(\n"
     ]
    }
   ],
   "source": [
    "model.save('digit_trained.h5')"
   ]
  },
  {
   "cell_type": "code",
   "execution_count": 10,
   "id": "2eaae2d7",
   "metadata": {},
   "outputs": [],
   "source": [
    "run = False\n",
    "ix,iy = -1,-1\n",
    "follow = 25\n",
    "img = np.zeros((512,512,1))"
   ]
  },
  {
   "cell_type": "code",
   "execution_count": 11,
   "id": "378d9c19",
   "metadata": {},
   "outputs": [],
   "source": [
    "def draw(event, x, y, flag, params):\n",
    "    global run,ix,iy,img,follow\n",
    "    if event == cv2.EVENT_LBUTTONDOWN:\n",
    "        run = True\n",
    "        ix, iy = x, y\n",
    "    elif event == cv2.EVENT_MOUSEMOVE:\n",
    "        if run == True:\n",
    "            cv2.circle(img, (x,y), 20, (255,255,255), -1)\n",
    "\n",
    "    elif event == cv2.EVENT_LBUTTONUP:\n",
    "        run = False\n",
    "        cv2.circle(img, (x,y), 20, (255,255,255), -1)\n",
    "        gray = cv2.resize(img, (28, 28))\n",
    "        gray = gray.reshape(1, 784)\n",
    "        result = np.argmax(model.predict(gray))\n",
    "        result = 'Draw a Number : {}'.format(result)\n",
    "        cv2.putText(img, org=(25,follow), fontFace=cv2.FONT_HERSHEY_SIMPLEX, fontScale=1, text= result, color=(255,0,0), thickness=1)\n",
    "        follow += 25\n",
    "    elif event == cv2.EVENT_RBUTTONDOWN:\n",
    "        img = np.zeros((512,512,1))\n",
    "        follow = 25"
   ]
  },
  {
   "cell_type": "code",
   "execution_count": null,
   "id": "3d23aa7e",
   "metadata": {},
   "outputs": [],
   "source": [
    "cv2.namedWindow('image')\n",
    "cv2.setMouseCallback('image', draw)\n",
    "while True:    \n",
    "    cv2.imshow(\"image\", img)\n",
    "    if cv2.waitKey(1) == 27:\n",
    "        break\n",
    "cv2.destroyAllWindows()"
   ]
  },
  {
   "cell_type": "code",
   "execution_count": null,
   "id": "51447176",
   "metadata": {},
   "outputs": [],
   "source": []
  }
 ],
 "metadata": {
  "kernelspec": {
   "display_name": "Python 3 (ipykernel)",
   "language": "python",
   "name": "python3"
  },
  "language_info": {
   "codemirror_mode": {
    "name": "ipython",
    "version": 3
   },
   "file_extension": ".py",
   "mimetype": "text/x-python",
   "name": "python",
   "nbconvert_exporter": "python",
   "pygments_lexer": "ipython3",
   "version": "3.11.4"
  }
 },
 "nbformat": 4,
 "nbformat_minor": 5
}
